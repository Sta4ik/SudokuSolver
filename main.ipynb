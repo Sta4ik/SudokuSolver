{
 "cells": [
  {
   "cell_type": "code",
   "execution_count": 1,
   "id": "8b39252a",
   "metadata": {},
   "outputs": [],
   "source": [
    "from selenium.webdriver.common.by import By\n",
    "from selenium.webdriver.common.keys import Keys\n",
    "from selenium import webdriver"
   ]
  },
  {
   "cell_type": "code",
   "execution_count": 2,
   "id": "9bfb760d",
   "metadata": {},
   "outputs": [],
   "source": [
    "driver = webdriver.Chrome()\n",
    "driver.get('https://absite.ru/sudoku')"
   ]
  },
  {
   "cell_type": "code",
   "execution_count": 94,
   "id": "c3a30989",
   "metadata": {},
   "outputs": [
    {
     "data": {
      "text/plain": [
       "['', '', '6', '2', '', '', '', '1', '9']"
      ]
     },
     "execution_count": 94,
     "metadata": {},
     "output_type": "execute_result"
    }
   ],
   "source": [
    "row = []\n",
    "for element in range(0, 9):\n",
    "    row.append(driver.find_element(By.XPATH, f'//*[@id=\"{element}\"]').get_attribute('textContent'))\n",
    "row"
   ]
  },
  {
   "cell_type": "code",
   "execution_count": 3,
   "id": "82c11f67",
   "metadata": {},
   "outputs": [
    {
     "data": {
      "text/plain": [
       "[['8', '5', '', '', '', '', '', '', ''],\n",
       " ['', '', '2', '', '', '', '', '', '1'],\n",
       " ['', '', '', '', '4', '', '7', '', '9'],\n",
       " ['6', '7', '', '', '1', '9', '', '', '3'],\n",
       " ['', '', '5', '', '', '', '', '6', '8'],\n",
       " ['', '', '', '5', '', '', '', '', ''],\n",
       " ['', '', '', '', '8', '', '3', '', ''],\n",
       " ['', '9', '', '', '', '5', '6', '', ''],\n",
       " ['3', '', '', '1', '', '', '', '', '']]"
      ]
     },
     "execution_count": 3,
     "metadata": {},
     "output_type": "execute_result"
    }
   ],
   "source": [
    "field = []\n",
    "for rowIndx in range(0, 9):\n",
    "    row = []\n",
    "    for colIndx in range(0, 9):\n",
    "        element = rowIndx * 9 + colIndx\n",
    "        row.append(driver.find_element(By.XPATH, f'//*[@id=\"{element}\"]').get_attribute('textContent'))\n",
    "    field.append(row)\n",
    "field"
   ]
  },
  {
   "cell_type": "code",
   "execution_count": 4,
   "id": "15a8819c",
   "metadata": {},
   "outputs": [
    {
     "data": {
      "text/plain": [
       "[['8', '5', '9', '7', '3', '1', '2', '4', '6'],\n",
       " ['7', '4', '2', '9', '5', '6', '8', '3', '1'],\n",
       " ['1', '6', '3', '2', '4', '8', '7', '5', '9'],\n",
       " ['6', '7', '4', '8', '1', '9', '5', '2', '3'],\n",
       " ['9', '3', '5', '4', '7', '2', '1', '6', '8'],\n",
       " ['2', '8', '1', '5', '6', '3', '9', '7', '4'],\n",
       " ['5', '1', '7', '6', '8', '4', '3', '9', '2'],\n",
       " ['4', '9', '8', '3', '2', '5', '6', '1', '7'],\n",
       " ['3', '2', '6', '1', '9', '7', '4', '8', '5']]"
      ]
     },
     "execution_count": 4,
     "metadata": {},
     "output_type": "execute_result"
    }
   ],
   "source": [
    "def isValidNum(num, row, col):\n",
    "    for i in range(0, 9):\n",
    "        if field[row][i] == num:\n",
    "            return False\n",
    "        if field[i][col] == num:\n",
    "            return False\n",
    "\n",
    "    boxRow = (row // 3) * 3\n",
    "    boxCol = (col // 3) * 3\n",
    "    for i in range(0, 3):\n",
    "        for j in range(0, 3):\n",
    "            if field[boxRow + i][boxCol + j] == num:\n",
    "                return False\n",
    "    return True\n",
    "\n",
    "def findEmpty():\n",
    "    for row in range(0, 9):\n",
    "        for col in range(0, 9):\n",
    "            if field[row][col] == '':\n",
    "                return (row, col)\n",
    "    return None\n",
    "\n",
    "\n",
    "def solveSudoku():\n",
    "    empty = findEmpty()\n",
    "    if empty == None:\n",
    "        return True\n",
    "\n",
    "    row, col = empty\n",
    "    for i in range(1, 10):\n",
    "        num = str(i)\n",
    "        if isValidNum(num, row, col):\n",
    "            field[row][col] = num\n",
    "            if solveSudoku():\n",
    "                return True\n",
    "            field[row][col] = ''\n",
    "    return False\n",
    "solveSudoku()\n",
    "field"
   ]
  },
  {
   "cell_type": "code",
   "execution_count": 11,
   "id": "b630bddf",
   "metadata": {},
   "outputs": [],
   "source": [
    "driver.find_element(By.XPATH, '//*[@id=\"0\"]').click()\n",
    "for row in range(9):\n",
    "    for col in range(9):\n",
    "        value = field[row][col]\n",
    "        driver.switch_to.active_element.send_keys(value)\n",
    "        driver.switch_to.active_element.send_keys(Keys.ARROW_RIGHT)"
   ]
  }
 ],
 "metadata": {
  "kernelspec": {
   "display_name": "Python 3",
   "language": "python",
   "name": "python3"
  },
  "language_info": {
   "codemirror_mode": {
    "name": "ipython",
    "version": 3
   },
   "file_extension": ".py",
   "mimetype": "text/x-python",
   "name": "python",
   "nbconvert_exporter": "python",
   "pygments_lexer": "ipython3",
   "version": "3.12.3"
  }
 },
 "nbformat": 4,
 "nbformat_minor": 5
}
