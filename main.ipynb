{
 "cells": [
  {
   "cell_type": "code",
   "execution_count": 92,
   "id": "8b39252a",
   "metadata": {},
   "outputs": [],
   "source": [
    "from selenium.webdriver.common.by import By\n",
    "from selenium.webdriver.common.keys import Keys\n",
    "from selenium import webdriver"
   ]
  },
  {
   "cell_type": "code",
   "execution_count": 93,
   "id": "9bfb760d",
   "metadata": {},
   "outputs": [],
   "source": [
    "driver = webdriver.Chrome()\n",
    "driver.get('https://absite.ru/sudoku')"
   ]
  },
  {
   "cell_type": "code",
   "execution_count": 94,
   "id": "c3a30989",
   "metadata": {},
   "outputs": [
    {
     "data": {
      "text/plain": [
       "['', '', '6', '2', '', '', '', '1', '9']"
      ]
     },
     "execution_count": 94,
     "metadata": {},
     "output_type": "execute_result"
    }
   ],
   "source": [
    "row = []\n",
    "for element in range(0, 9):\n",
    "    row.append(driver.find_element(By.XPATH, f'//*[@id=\"{element}\"]').get_attribute('textContent'))\n",
    "row"
   ]
  },
  {
   "cell_type": "code",
   "execution_count": 95,
   "id": "82c11f67",
   "metadata": {},
   "outputs": [
    {
     "data": {
      "text/plain": [
       "[['', '', '6', '2', '', '', '', '1', '9'],\n",
       " ['', '', '3', '', '', '8', '', '', ''],\n",
       " ['2', '', '', '4', '', '', '6', '', ''],\n",
       " ['4', '', '', '', '', '', '', '', '5'],\n",
       " ['', '6', '', '5', '7', '', '', '', ''],\n",
       " ['', '', '', '', '', '', '2', '', ''],\n",
       " ['', '', '', '', '', '5', '9', '', ''],\n",
       " ['1', '', '', '', '9', '', '8', '7', ''],\n",
       " ['8', '7', '', '', '', '', '', '', '']]"
      ]
     },
     "execution_count": 95,
     "metadata": {},
     "output_type": "execute_result"
    }
   ],
   "source": [
    "field = []\n",
    "for rowIndx in range(0, 9):\n",
    "    row = []\n",
    "    for colIndx in range(0, 9):\n",
    "        element = rowIndx * 9 + colIndx\n",
    "        row.append(driver.find_element(By.XPATH, f'//*[@id=\"{element}\"]').get_attribute('textContent'))\n",
    "    field.append(row)\n",
    "field"
   ]
  },
  {
   "cell_type": "code",
   "execution_count": 96,
   "id": "15a8819c",
   "metadata": {},
   "outputs": [
    {
     "data": {
      "text/plain": [
       "[['5', '8', '6', '2', '3', '7', '4', '1', '9'],\n",
       " ['9', '4', '3', '6', '1', '8', '5', '2', '7'],\n",
       " ['2', '1', '7', '4', '5', '9', '6', '3', '8'],\n",
       " ['4', '2', '1', '9', '6', '3', '7', '8', '5'],\n",
       " ['3', '6', '8', '5', '7', '2', '1', '9', '4'],\n",
       " ['7', '9', '5', '8', '4', '1', '2', '6', '3'],\n",
       " ['6', '3', '2', '7', '8', '5', '9', '4', '1'],\n",
       " ['1', '5', '4', '3', '9', '6', '8', '7', '2'],\n",
       " ['8', '7', '9', '1', '2', '4', '3', '5', '6']]"
      ]
     },
     "execution_count": 96,
     "metadata": {},
     "output_type": "execute_result"
    }
   ],
   "source": [
    "def isValidNum(num, row, col):\n",
    "    for i in range(0, 9):\n",
    "        if field[row][i] == num:\n",
    "            return False\n",
    "        if field[i][col] == num:\n",
    "            return False\n",
    "\n",
    "    boxRow = (row // 3) * 3\n",
    "    boxCol = (col // 3) * 3\n",
    "    for i in range(0, 3):\n",
    "        for j in range(0, 3):\n",
    "            if field[boxRow + i][boxCol + j] == num:\n",
    "                return False\n",
    "    return True\n",
    "\n",
    "def findEmpty():\n",
    "    for row in range(0, 9):\n",
    "        for col in range(0, 9):\n",
    "            if field[row][col] == '':\n",
    "                return (row, col)\n",
    "    return None\n",
    "\n",
    "\n",
    "def solveSudoku():\n",
    "    empty = findEmpty()\n",
    "    if empty == None:\n",
    "        return True\n",
    "\n",
    "    row, col = empty\n",
    "    for i in range(1, 10):\n",
    "        num = str(i)\n",
    "        if isValidNum(num, row, col):\n",
    "            field[row][col] = num\n",
    "            if solveSudoku():\n",
    "                return True\n",
    "            field[row][col] = ''\n",
    "    return False\n",
    "solveSudoku()\n",
    "field"
   ]
  },
  {
   "cell_type": "code",
   "execution_count": 97,
   "id": "b630bddf",
   "metadata": {},
   "outputs": [],
   "source": [
    "for row in range(9):\n",
    "    for col in range(9):\n",
    "        value = field[row][col]\n",
    "        driver.switch_to.active_element.send_keys(value)\n",
    "        driver.switch_to.active_element.send_keys(Keys.ARROW_RIGHT)"
   ]
  }
 ],
 "metadata": {
  "kernelspec": {
   "display_name": "Python 3",
   "language": "python",
   "name": "python3"
  },
  "language_info": {
   "codemirror_mode": {
    "name": "ipython",
    "version": 3
   },
   "file_extension": ".py",
   "mimetype": "text/x-python",
   "name": "python",
   "nbconvert_exporter": "python",
   "pygments_lexer": "ipython3",
   "version": "3.12.3"
  }
 },
 "nbformat": 4,
 "nbformat_minor": 5
}
